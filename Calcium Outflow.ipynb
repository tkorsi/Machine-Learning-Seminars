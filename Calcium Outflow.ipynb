{
  "nbformat": 4,
  "nbformat_minor": 0,
  "metadata": {
    "colab": {
      "provenance": [],
      "authorship_tag": "ABX9TyOe92zglQ/2Mqa0eJW2hLZK",
      "include_colab_link": true
    },
    "kernelspec": {
      "name": "python3",
      "display_name": "Python 3"
    },
    "language_info": {
      "name": "python"
    }
  },
  "cells": [
    {
      "cell_type": "markdown",
      "metadata": {
        "id": "view-in-github",
        "colab_type": "text"
      },
      "source": [
        "<a href=\"https://colab.research.google.com/github/tkorsi/Machine-Learning-Seminars/blob/main/Calcium%20Outflow.ipynb\" target=\"_parent\"><img src=\"https://colab.research.google.com/assets/colab-badge.svg\" alt=\"Open In Colab\"/></a>"
      ]
    },
    {
      "cell_type": "markdown",
      "source": [
        "## Sufficient Statistics\n",
        "\n",
        "In the next task, we'll need the concept of a sufficient statistic, which will be discussed more in lectures later.\n",
        "\n",
        "A function of the sample $T(x_{[n]})$ is called a **sufficient statistic** for a parametric family of distributions $p(x|\\theta)$, $\\theta \\in \\Theta$, for a sample of size $n$, if:\n",
        "\n",
        "$$\n",
        "p(x_{[n]} | T(x_{[n]}), \\theta) = p(x_{[n]} | T(x_{[n]}) ) \\quad \\text{for all } \\theta \\in \\Theta.\n",
        "$$\n",
        "\n",
        "Checking this directly is unpleasant, but there’s a simpler way:  \n",
        "$T$ is a sufficient statistic **if** the likelihood can be written as:\n",
        "\n",
        "$$\n",
        "p(x_{[n]} | \\theta) = g(T(x_{[n]}), \\theta) \\cdot h(x_{[n]})\n",
        "$$\n",
        "\n",
        "for some functions $g$ and $h$, where $g$ depends only on $T$ and $\\theta$, and $h$ is independent of the parameter.\n",
        "\n",
        "### Why is this useful?\n",
        "\n",
        "Roughly speaking, a **sufficient statistic contains all information about the parameter present in the sample**.\n",
        "\n",
        "Formally, this means the posterior distribution of the parameter given the sample equals the posterior given the sufficient statistic:\n",
        "\n",
        "$$\n",
        "p(\\theta | x_{[n]}) =\n",
        "\\frac{p(x_{[n]} | \\theta) p(\\theta)}{\\int p(x_{[n]} | \\theta) p(\\theta) d\\theta}\n",
        "=\n",
        "\\frac{p(T | \\theta) p(\\theta)}{\\int p(T | \\theta) p(\\theta) d\\theta}\n",
        "= p(\\theta | T).\n",
        "$$\n",
        "\n",
        "So, to compute the posterior, we don’t need the whole sample — only the sufficient statistic and sample size.\n",
        "\n",
        "---\n",
        "\n",
        "## Example: Normal Distribution with Known Variance\n",
        "\n",
        "Let’s consider $X \\sim \\mathcal{N}(\\mu, \\sigma^2)$, where $\\sigma^2$ is known and $\\mu \\sim \\mathcal{N}(\\mu_0, \\sigma_0^2)$. The likelihood is:\n",
        "\n",
        "$$\n",
        "p(x_{[n]} | \\mu) = \\prod_i \\frac{1}{\\sqrt{2\\pi \\sigma^2}} e^{-\\frac{(x_i - \\mu)^2}{2\\sigma^2}} =\n",
        "\\left[ \\frac{1}{(2\\pi)^{n/2} \\sigma^n} e^{-\\frac{1}{2\\sigma^2} \\sum_i x_i^2} \\right]\n",
        "\\left[ e^{-\\frac{1}{2\\sigma^2}(n\\mu^2 - 2\\mu \\sum_i x_i)} \\right]\n",
        "$$\n",
        "\n",
        "The first bracket depends only on $x_{[n]}$, the second only on $\\mu$ and $\\sum_i x_i$.  \n",
        "Thus, $\\sum_i x_i$ is a sufficient statistic, and so is the sample mean $\\bar{x}$.\n",
        "\n",
        "> If variance is known, it's enough to store the sample size and mean to compute the posterior.\n",
        "\n",
        "---\n",
        "\n",
        "## Example: Normal Distribution with Unknown Variance\n",
        "\n",
        "If variance is unknown, the likelihood depends on $\\mu, \\sigma^2, \\sum_i x_i, \\sum_i x_i^2$, so we can take:\n",
        "\n",
        "$$\n",
        "T = \\left( \\sum_i x_i, \\sum_i x_i^2 \\right), \\quad\n",
        "g(T, \\mu, \\sigma^2) = p(x_{[n]} | \\mu, \\sigma^2), \\quad\n",
        "h \\equiv 1\n",
        "$$\n",
        "\n",
        "So $(\\sum x_i, \\sum x_i^2)$ is sufficient — and thus $(\\bar{x}, s^2)$ is sufficient.\n",
        "\n",
        "> If variance is unknown, it's enough to store sample size, sample mean, and unbiased variance.\n",
        "\n",
        "In particular, the parameters of $p(\\mu | \\sigma^2, x_{[n]})$ and $p(\\sigma^2 | x_{[n]})$ depend on the sample only via $\\bar{x}, s^2, n$.\n",
        "\n",
        "---\n",
        "\n",
        "## Application: Calcium Outflow Experiment\n",
        "\n",
        "An experiment was conducted to study the effect of magnetic fields on calcium outflow from chicken brains.  \n",
        "Two groups of chickens were used: a **control group** of 32 and a **treatment group** of 36.  \n",
        "Each chicken had one measurement taken — the goal was to estimate the mean flow rates  \n",
        "$\\mu_c$ for the control group and $\\mu_t$ for the treatment group.\n",
        "\n",
        "- Control group (n = 32): sample mean = **1.013**, corrected std dev = **0.24**  \n",
        "- Treatment group (n = 36): sample mean = **1.173**, corrected std dev = **0.20**\n",
        "\n",
        "Assume the measurements are independent and normally distributed:\n",
        "\n",
        "$$\n",
        "\\text{Control: } X_i \\sim \\mathcal{N}(\\mu_c, \\sigma_c^2), \\quad\n",
        "\\text{Treatment: } Y_i \\sim \\mathcal{N}(\\mu_t, \\sigma_t^2)\n",
        "$$\n",
        "\n",
        "With uninformative priors:\n",
        "\n",
        "$$\n",
        "p(\\mu_c, \\sigma_c^2, \\mu_t, \\sigma_t^2) \\sim \\frac{1}{\\sigma_c^2 \\sigma_t^2}\n",
        "$$\n",
        "\n",
        "Estimate the **central 95% credible interval** for the difference:\n",
        "\n",
        "$$\n",
        "\\mu_t - \\mu_c\n",
        "$$\n",
        "\n",
        "and report the lower and upper bounds (separated by a space).\n",
        "\n",
        "**Acceptable margin of error:** 0.01\n"
      ],
      "metadata": {
        "id": "vnER-1F65G3O"
      }
    },
    {
      "cell_type": "code",
      "source": [
        "import numpy as np\n",
        "import pandas as pd\n",
        "import scipy.stats as st\n",
        "\n",
        "# ---------------------------------------------------------\n",
        "#  Data from the problem\n",
        "# ---------------------------------------------------------\n",
        "# Control group: n=32, mean=1.013, corrected std=0.24\n",
        "n_c = 32\n",
        "mean_c = 1.013\n",
        "sd_c = 0.24\n",
        "var_c = sd_c**2  # corrected sample variance\n",
        "\n",
        "# Treatment group: n=36, mean=1.173, corrected std=0.20\n",
        "n_t = 36\n",
        "mean_t = 1.173\n",
        "sd_t = 0.20\n",
        "var_t = sd_t**2\n",
        "\n",
        "# ---------------------------------------------------------\n",
        "#  Posterior parameters for sigma^2 (Inverse-Gamma)\n",
        "# ---------------------------------------------------------\n",
        "# For group i: alpha_i = (n_i - 1)/2\n",
        "#              scale_i = (n_i - 1)*s_i^2 / 2\n",
        "alpha_c = (n_c - 1) / 2.0\n",
        "scale_c = ((n_c - 1) * var_c) / 2.0\n",
        "\n",
        "alpha_t = (n_t - 1) / 2.0\n",
        "scale_t = ((n_t - 1) * var_t) / 2.0\n"
      ],
      "metadata": {
        "id": "zyWUpxmP5AYV"
      },
      "execution_count": 22,
      "outputs": []
    },
    {
      "cell_type": "code",
      "source": [
        "\n",
        "# ---------------------------------------------------------\n",
        "#  Monte Carlo sampling\n",
        "# ---------------------------------------------------------\n",
        "rng = np.random.default_rng(42)\n",
        "N = 200_000  # number of posterior draws\n",
        "\n",
        "# 1) Sample sigma_c^2, sigma_t^2 from Inverse-Gamma\n",
        "#    scipy.stats.invgamma takes parameters (a=shape, scale=scale)\n",
        "sigma2_c_samples = st.invgamma(a=alpha_c, scale=scale_c).rvs(size=N, random_state=rng)\n",
        "sigma2_t_samples = st.invgamma(a=alpha_t, scale=scale_t).rvs(size=N, random_state=rng)\n"
      ],
      "metadata": {
        "id": "gSvhRbEa5Mzu"
      },
      "execution_count": 23,
      "outputs": []
    },
    {
      "cell_type": "code",
      "source": [
        "\n",
        "# 2) Given sigma_c^2, sample mu_c ~ Normal( mean_c, sigma_c^2 / n_c )\n",
        "mu_c_samples = rng.normal(\n",
        "    loc=mean_c,\n",
        "    scale=np.sqrt(sigma2_c_samples / n_c)\n",
        ")\n",
        "\n",
        "#    Given sigma_t^2, sample mu_t ~ Normal( mean_t, sigma_t^2 / n_t )\n",
        "mu_t_samples = rng.normal(\n",
        "    loc=mean_t,\n",
        "    scale=np.sqrt(sigma2_t_samples / n_t)\n",
        ")\n"
      ],
      "metadata": {
        "id": "VcyLZ0a15Ogt"
      },
      "execution_count": 24,
      "outputs": []
    },
    {
      "cell_type": "code",
      "source": [
        "\n",
        "# 3) Compute the difference\n",
        "diff_samples = mu_t_samples - mu_c_samples\n",
        "\n",
        "# 4) Extract 2.5% and 97.5% quantiles\n",
        "lower_95, upper_95 = np.percentile(diff_samples, [2.5, 97.5])\n",
        "\n",
        "print(f\"95% credible interval for (mu_t - mu_c): [{lower_95:.3f}, {upper_95:.3f}]\")\n"
      ],
      "metadata": {
        "colab": {
          "base_uri": "https://localhost:8080/"
        },
        "id": "_RQV_Lpj5QU1",
        "outputId": "c594e79a-7785-416e-e473-43455c5af5a3"
      },
      "execution_count": 25,
      "outputs": [
        {
          "output_type": "stream",
          "name": "stdout",
          "text": [
            "95% credible interval for (mu_t - mu_c): [0.051, 0.270]\n"
          ]
        }
      ]
    }
  ]
}