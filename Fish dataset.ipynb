{
  "nbformat": 4,
  "nbformat_minor": 0,
  "metadata": {
    "colab": {
      "provenance": [],
      "authorship_tag": "ABX9TyNOteBDW2EIJ+Op/Gfq7PhR",
      "include_colab_link": true
    },
    "kernelspec": {
      "name": "python3",
      "display_name": "Python 3"
    },
    "language_info": {
      "name": "python"
    },
    "widgets": {
      "application/vnd.jupyter.widget-state+json": {
        "e18b0077cd594ef7bf4ba547968b8e55": {
          "model_module": "@jupyter-widgets/output",
          "model_name": "OutputModel",
          "model_module_version": "1.0.0",
          "state": {
            "_dom_classes": [],
            "_model_module": "@jupyter-widgets/output",
            "_model_module_version": "1.0.0",
            "_model_name": "OutputModel",
            "_view_count": null,
            "_view_module": "@jupyter-widgets/output",
            "_view_module_version": "1.0.0",
            "_view_name": "OutputView",
            "layout": "IPY_MODEL_f7eee1f6bf994991b35993f5f332e548",
            "msg_id": "",
            "outputs": [
              {
                "output_type": "display_data",
                "data": {
                  "text/plain": "                                                                                                                   \n \u001b[1m \u001b[0m\u001b[1mProgress                 \u001b[0m\u001b[1m \u001b[0m \u001b[1m \u001b[0m\u001b[1mDraws\u001b[0m\u001b[1m \u001b[0m \u001b[1m \u001b[0m\u001b[1mDivergences\u001b[0m\u001b[1m \u001b[0m \u001b[1m \u001b[0m\u001b[1mStep size\u001b[0m\u001b[1m \u001b[0m \u001b[1m \u001b[0m\u001b[1mGrad evals\u001b[0m\u001b[1m \u001b[0m \u001b[1m \u001b[0m\u001b[1mSampling Speed\u001b[0m\u001b[1m \u001b[0m \u001b[1m \u001b[0m\u001b[1mElapsed\u001b[0m\u001b[1m \u001b[0m \u001b[1m \u001b[0m\u001b[1mRemaining\u001b[0m\u001b[1m \u001b[0m \n ───────────────────────────────────────────────────────────────────────────────────────────────────────────────── \n  \u001b[38;2;31;119;180m━━━━━━━━━━━━━━━━━━━━━━━━━\u001b[0m   12000   0             0.04        63           128.05 draws/s   0:01:33   0:00:00    \n                                                                                                                   \n",
                  "text/html": "<pre style=\"white-space:pre;overflow-x:auto;line-height:normal;font-family:Menlo,'DejaVu Sans Mono',consolas,'Courier New',monospace\">                                                                                                                   \n <span style=\"font-weight: bold\"> Progress                  </span> <span style=\"font-weight: bold\"> Draws </span> <span style=\"font-weight: bold\"> Divergences </span> <span style=\"font-weight: bold\"> Step size </span> <span style=\"font-weight: bold\"> Grad evals </span> <span style=\"font-weight: bold\"> Sampling Speed </span> <span style=\"font-weight: bold\"> Elapsed </span> <span style=\"font-weight: bold\"> Remaining </span> \n ───────────────────────────────────────────────────────────────────────────────────────────────────────────────── \n  <span style=\"color: #1f77b4; text-decoration-color: #1f77b4\">━━━━━━━━━━━━━━━━━━━━━━━━━</span>   12000   0             0.04        63           128.05 draws/s   0:01:33   0:00:00    \n                                                                                                                   \n</pre>\n"
                },
                "metadata": {}
              }
            ]
          }
        },
        "f7eee1f6bf994991b35993f5f332e548": {
          "model_module": "@jupyter-widgets/base",
          "model_name": "LayoutModel",
          "model_module_version": "1.2.0",
          "state": {
            "_model_module": "@jupyter-widgets/base",
            "_model_module_version": "1.2.0",
            "_model_name": "LayoutModel",
            "_view_count": null,
            "_view_module": "@jupyter-widgets/base",
            "_view_module_version": "1.2.0",
            "_view_name": "LayoutView",
            "align_content": null,
            "align_items": null,
            "align_self": null,
            "border": null,
            "bottom": null,
            "display": null,
            "flex": null,
            "flex_flow": null,
            "grid_area": null,
            "grid_auto_columns": null,
            "grid_auto_flow": null,
            "grid_auto_rows": null,
            "grid_column": null,
            "grid_gap": null,
            "grid_row": null,
            "grid_template_areas": null,
            "grid_template_columns": null,
            "grid_template_rows": null,
            "height": null,
            "justify_content": null,
            "justify_items": null,
            "left": null,
            "margin": null,
            "max_height": null,
            "max_width": null,
            "min_height": null,
            "min_width": null,
            "object_fit": null,
            "object_position": null,
            "order": null,
            "overflow": null,
            "overflow_x": null,
            "overflow_y": null,
            "padding": null,
            "right": null,
            "top": null,
            "visibility": null,
            "width": null
          }
        }
      }
    }
  },
  "cells": [
    {
      "cell_type": "markdown",
      "metadata": {
        "id": "view-in-github",
        "colab_type": "text"
      },
      "source": [
        "<a href=\"https://colab.research.google.com/github/tkorsi/Machine-Learning-Seminars/blob/main/Fish%20dataset.ipynb\" target=\"_parent\"><img src=\"https://colab.research.google.com/assets/colab-badge.svg\" alt=\"Open In Colab\"/></a>"
      ]
    },
    {
      "cell_type": "code",
      "source": [
        "import numpy as np\n",
        "import pandas as pd\n",
        "import pymc as pm\n",
        "import arviz as az\n",
        "import matplotlib.pyplot as plt\n",
        "\n",
        "# 1) Read the data and drop row 40\n",
        "url = \"https://stepik.org/media/attachments/lesson/832665/Fish.csv\"\n",
        "data = pd.read_csv(url)\n",
        "data = data.drop(40, axis=0)  # row with Weight=0\n",
        "\n",
        "# Log-transform the relevant columns\n",
        "data[\"log_Weight\"]   = np.log(data[\"Weight\"])\n",
        "data[\"log_Length1\"]  = np.log(data[\"Length1\"])\n",
        "data[\"log_Height\"]   = np.log(data[\"Height\"])\n",
        "data[\"log_Width\"]    = np.log(data[\"Width\"])\n",
        "\n",
        "# 2) Build the PyMC model\n",
        "with pm.Model() as model:\n",
        "    # Priors\n",
        "    beta0 = pm.Normal(\"beta0\", mu=0, sigma=100)\n",
        "    beta1 = pm.Normal(\"beta1\", mu=0, sigma=100)\n",
        "    beta2 = pm.Normal(\"beta2\", mu=0, sigma=100)\n",
        "    beta3 = pm.Normal(\"beta3\", mu=0, sigma=100)\n",
        "    sigma = pm.HalfNormal(\"sigma\", sigma=100)\n",
        "\n",
        "    # Linear predictor\n",
        "    mu = (beta0\n",
        "          + beta1 * data[\"log_Length1\"].values\n",
        "          + beta2 * data[\"log_Height\"].values\n",
        "          + beta3 * data[\"log_Width\"].values)\n",
        "\n",
        "    # Likelihood\n",
        "    pm.Normal(\"obs\", mu=mu, sigma=sigma, observed=data[\"log_Weight\"].values)\n",
        "\n",
        "    # 3) Sample from the posterior (10,000 draws, 1 chain)\n",
        "    trace = pm.sample(\n",
        "        10000,\n",
        "        chains=1,\n",
        "        tune=2000,       # you can adjust tuning steps if needed\n",
        "        target_accept=0.9,  # can help with acceptance in some cases\n",
        "        random_seed=42\n",
        "    )"
      ],
      "metadata": {
        "colab": {
          "base_uri": "https://localhost:8080/",
          "height": 97,
          "referenced_widgets": [
            "e18b0077cd594ef7bf4ba547968b8e55",
            "f7eee1f6bf994991b35993f5f332e548"
          ]
        },
        "id": "zMuclhEK1O5z",
        "outputId": "1d80fb4e-c52d-4c81-af74-96104155b4b2"
      },
      "execution_count": 14,
      "outputs": [
        {
          "output_type": "display_data",
          "data": {
            "text/plain": [
              "Output()"
            ],
            "application/vnd.jupyter.widget-view+json": {
              "version_major": 2,
              "version_minor": 0,
              "model_id": "e18b0077cd594ef7bf4ba547968b8e55"
            }
          },
          "metadata": {}
        },
        {
          "output_type": "display_data",
          "data": {
            "text/plain": [],
            "text/html": [
              "<pre style=\"white-space:pre;overflow-x:auto;line-height:normal;font-family:Menlo,'DejaVu Sans Mono',consolas,'Courier New',monospace\"></pre>\n"
            ]
          },
          "metadata": {}
        }
      ]
    },
    {
      "cell_type": "code",
      "source": [
        "\n",
        "# 4) Summarize the trace\n",
        "print(az.summary(trace, var_names=[\"beta0\", \"beta1\", \"beta2\", \"beta3\", \"sigma\"], hdi_prob=0.95))\n"
      ],
      "metadata": {
        "colab": {
          "base_uri": "https://localhost:8080/"
        },
        "id": "WzONG3pz1Uvf",
        "outputId": "5f77eff6-157e-420a-d459-89bbe0bc4124"
      },
      "execution_count": 15,
      "outputs": [
        {
          "output_type": "stream",
          "name": "stderr",
          "text": [
            "Shape validation failed: input_shape: (1, 10000), minimum_shape: (chains=2, draws=4)\n"
          ]
        },
        {
          "output_type": "stream",
          "name": "stdout",
          "text": [
            "        mean     sd  hdi_2.5%  hdi_97.5%  mcse_mean  mcse_sd  ess_bulk  \\\n",
            "beta0 -1.768  0.117    -2.005     -1.540      0.002    0.001    3604.0   \n",
            "beta1  1.428  0.053     1.325      1.533      0.001    0.001    3590.0   \n",
            "beta2  0.628  0.033     0.566      0.693      0.001    0.000    4220.0   \n",
            "beta3  0.952  0.062     0.828      1.072      0.001    0.001    3482.0   \n",
            "sigma  0.100  0.006     0.089      0.112      0.000    0.000    5447.0   \n",
            "\n",
            "       ess_tail  r_hat  \n",
            "beta0    4248.0    NaN  \n",
            "beta1    4355.0    NaN  \n",
            "beta2    4907.0    NaN  \n",
            "beta3    4544.0    NaN  \n",
            "sigma    4812.0    NaN  \n"
          ]
        }
      ]
    },
    {
      "cell_type": "code",
      "source": [
        "\n",
        "# 5) Compute the posterior of (beta1 + beta2 + beta3)\n",
        "beta1_vals = trace.posterior[\"beta1\"].values.flatten()\n",
        "beta2_vals = trace.posterior[\"beta2\"].values.flatten()\n",
        "beta3_vals = trace.posterior[\"beta3\"].values.flatten()\n",
        "\n",
        "sum_betas = beta1_vals + beta2_vals + beta3_vals\n",
        "hdi_sum = az.hdi(sum_betas, hdi_prob=0.95)\n",
        "lower_95, upper_95 = hdi_sum[0], hdi_sum[1]\n",
        "\n",
        "print(f\"\\n95% Credible Interval for (beta1 + beta2 + beta3): [{lower_95:.3f}, {upper_95:.3f}]\")\n",
        "\n",
        "\n"
      ],
      "metadata": {
        "colab": {
          "base_uri": "https://localhost:8080/"
        },
        "id": "gI236iiV1WCN",
        "outputId": "19bb81f3-41c4-4600-b2bd-8693fcab3ff7"
      },
      "execution_count": 16,
      "outputs": [
        {
          "output_type": "stream",
          "name": "stdout",
          "text": [
            "\n",
            "95% Credible Interval for (beta1 + beta2 + beta3): [2.968, 3.047]\n"
          ]
        }
      ]
    },
    {
      "cell_type": "code",
      "source": [
        "# 6) Plot the traces (optional)\n",
        "az.plot_trace(trace, var_names=[\"beta0\", \"beta1\", \"beta2\", \"beta3\", \"sigma\"])\n",
        "plt.tight_layout()\n",
        "plt.show()"
      ],
      "metadata": {
        "id": "kqO486j21Xnm"
      },
      "execution_count": null,
      "outputs": []
    }
  ]
}