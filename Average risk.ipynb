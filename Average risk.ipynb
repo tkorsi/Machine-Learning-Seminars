{
  "nbformat": 4,
  "nbformat_minor": 0,
  "metadata": {
    "colab": {
      "provenance": [],
      "authorship_tag": "ABX9TyPKuij7/sOUdf75gkkI/wYn",
      "include_colab_link": true
    },
    "kernelspec": {
      "name": "python3",
      "display_name": "Python 3"
    },
    "language_info": {
      "name": "python"
    }
  },
  "cells": [
    {
      "cell_type": "markdown",
      "metadata": {
        "id": "view-in-github",
        "colab_type": "text"
      },
      "source": [
        "<a href=\"https://colab.research.google.com/github/tkorsi/Machine-Learning-Seminars/blob/main/Average%20risk.ipynb\" target=\"_parent\"><img src=\"https://colab.research.google.com/assets/colab-badge.svg\" alt=\"Open In Colab\"/></a>"
      ]
    },
    {
      "cell_type": "code",
      "source": [
        "import numpy as np\n",
        "import scipy.stats as ss\n",
        "\n",
        "def average_risk(p1, p2, mu1, cov1, mu2, cov2, n_samples=10000, random_state=1337):\n",
        "    \"\"\"\n",
        "    Estimate the average risk (misclassification probability) of the\n",
        "    optimal Bayesian classifier for a 2-class Gaussian problem via Monte Carlo.\n",
        "\n",
        "    Parameters\n",
        "    ----------\n",
        "    p1, p2 : float\n",
        "        Class prior probabilities (p1 + p2 == 1).\n",
        "    mu1, mu2 : array_like, shape (2,)\n",
        "        Means of the two 2D Gaussian distributions.\n",
        "    cov1, cov2 : array_like, shape (2, 2)\n",
        "        Covariance matrices of the two 2D Gaussian distributions.\n",
        "    n_samples : int, optional\n",
        "        Number of samples to generate (default 10,000).\n",
        "    random_state : int or np.random.Generator, optional\n",
        "        Seed or random generator for reproducibility.\n",
        "\n",
        "    Returns\n",
        "    -------\n",
        "    risk : float\n",
        "        Monte Carlo estimate of the average 0-1 loss (misclassification probability).\n",
        "    \"\"\"\n",
        "    rng = np.random.default_rng(random_state)\n",
        "\n",
        "    # 1) Randomly pick class labels for each sample\n",
        "    classes = rng.choice([1, 2], size=n_samples, p=[p1, p2])\n",
        "\n",
        "    # 2) Allocate array for the 2D points\n",
        "    X = np.empty((n_samples, 2))\n",
        "\n",
        "    # Create distribution objects for each class\n",
        "    mvn1 = ss.multivariate_normal(mean=mu1, cov=cov1)\n",
        "    mvn2 = ss.multivariate_normal(mean=mu2, cov=cov2)\n",
        "\n",
        "    # Draw from each distribution where needed\n",
        "    mask1 = (classes == 1)\n",
        "    mask2 = (classes == 2)\n",
        "    X[mask1] = mvn1.rvs(size=mask1.sum(), random_state=rng)\n",
        "    X[mask2] = mvn2.rvs(size=mask2.sum(), random_state=rng)\n",
        "\n",
        "    # 3) Bayesian decision rule: predict 1 if p1*f1(x) >= p2*f2(x), else 2\n",
        "    f1_vals = mvn1.pdf(X)\n",
        "    f2_vals = mvn2.pdf(X)\n",
        "    pred = np.where(p1 * f1_vals >= p2 * f2_vals, 1, 2)\n",
        "\n",
        "    # 4) Misclassification rate (0–1 loss)\n",
        "    risk = np.mean(pred != classes)\n",
        "    return risk\n"
      ],
      "metadata": {
        "id": "xrCBLREE3HnS"
      },
      "execution_count": 20,
      "outputs": []
    },
    {
      "cell_type": "code",
      "source": [
        "# Example usage:\n",
        "p1 = 0.3\n",
        "p2 = 0.7\n",
        "mu1 = np.array([0, 0])\n",
        "mu2 = np.array([2, 1])\n",
        "cov1 = np.array([[1, 0.2], [0.2, 1]])\n",
        "cov2 = np.array([[1, -0.3], [-0.3, 1]])\n",
        "\n",
        "risk_estimate = average_risk(0.3, 0.7, [0, 0], [[1, 0.5], [0.5, 1]], [2.5, 0], [[1, -0.5], [-0.5, 1]])\n",
        "print(\"Estimated average risk =\", risk_estimate)\n"
      ],
      "metadata": {
        "colab": {
          "base_uri": "https://localhost:8080/"
        },
        "id": "56mZcWLl3InP",
        "outputId": "ac79bfe8-74f9-4a09-d964-c176b29671ae"
      },
      "execution_count": 21,
      "outputs": [
        {
          "output_type": "stream",
          "name": "stdout",
          "text": [
            "Estimated average risk = 0.0873\n"
          ]
        }
      ]
    }
  ]
}