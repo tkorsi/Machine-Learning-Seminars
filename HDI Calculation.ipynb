{
  "nbformat": 4,
  "nbformat_minor": 0,
  "metadata": {
    "colab": {
      "provenance": [],
      "authorship_tag": "ABX9TyNVDybcvM3syp0jKK7ys6PW",
      "include_colab_link": true
    },
    "kernelspec": {
      "name": "python3",
      "display_name": "Python 3"
    },
    "language_info": {
      "name": "python"
    }
  },
  "cells": [
    {
      "cell_type": "markdown",
      "metadata": {
        "id": "view-in-github",
        "colab_type": "text"
      },
      "source": [
        "<a href=\"https://colab.research.google.com/github/tkorsi/Machine-Learning-Seminars/blob/main/HDI%20Calculation.ipynb\" target=\"_parent\"><img src=\"https://colab.research.google.com/assets/colab-badge.svg\" alt=\"Open In Colab\"/></a>"
      ]
    },
    {
      "cell_type": "code",
      "source": [
        "import numpy as np\n",
        "import matplotlib.pyplot as plt\n",
        "import arviz as az\n",
        "import pymc as pm\n",
        "from scipy.stats import norm\n",
        "\n",
        "# --- 1. Generate EXACT truncated sample using scipy.stats.norm.rvs ---\n",
        "data_full = norm.rvs(loc=0, scale=1, size=1000, random_state=1337)\n",
        "data = data_full[(data_full > -1) & (data_full < 2)]\n",
        "\n",
        "print(\"Truncated data size:\", len(data))\n",
        "print(\"Data min, max =\", data.min(), data.max())\n",
        "\n",
        "# --- 2. Build the PyMC model ---\n",
        "with pm.Model() as model:\n",
        "    # Flat prior on mu\n",
        "    mu = pm.Flat(\"mu\")\n",
        "\n",
        "    # HalfFlat prior on sigma\n",
        "    sigma = pm.HalfFlat(\"sigma\")\n",
        "\n",
        "    # Potential enforcing p(mu, sigma) ∝ 1/sigma\n",
        "    pm.Potential(\"prior_potential\", -pm.math.log(sigma))\n",
        "\n",
        "    # Exponential priors for how far below/above the data the truncation might be\n",
        "    L = pm.Exponential(\"L\", lam=1.0)  # how much further left than min(data)\n",
        "    U = pm.Exponential(\"U\", lam=1.0)  # how much further right than max(data)\n",
        "\n",
        "    # Define the actual truncation boundaries\n",
        "    lower_ = pm.Deterministic(\"lower_\", data.min() - L)\n",
        "    upper_ = pm.Deterministic(\"upper_\", data.max() + U)\n",
        "\n",
        "    # Truncated likelihood\n",
        "    obs = pm.Truncated(\n",
        "        \"obs\",\n",
        "        pm.Normal.dist(mu=mu, sigma=sigma),\n",
        "        lower=lower_,\n",
        "        upper=upper_,\n",
        "        observed=data\n",
        "    )\n",
        "\n",
        "    # --- 3. Sample with 2 chains to avoid shape validation issues ---\n",
        "    trace = pm.sample(\n",
        "        10000,       # total draws PER chain\n",
        "        tune=2000,   # tuning steps\n",
        "        chains=2,    # use 2 chains\n",
        "        cores=1,     # set cores=1 if you run into parallelization issues\n",
        "        random_seed=1337,\n",
        "        target_accept=0.9  # (optional) higher target accept might give more stable estimates\n",
        "    )\n",
        "\n",
        "# --- 4. Print ArviZ summary ---\n",
        "summary_df = az.summary(\n",
        "    trace,\n",
        "    var_names=[\"mu\", \"sigma\", \"L\", \"U\", \"lower_\", \"upper_\"],\n",
        "    hdi_prob=0.95\n",
        ")\n",
        "print(summary_df)\n",
        "\n",
        "# --- 5. Compute & print the 95% HDI for sigma in the format \"lower upper\" ---\n",
        "sigma_vals = trace.posterior[\"sigma\"].values.flatten()\n",
        "sigma_hdi = az.hdi(sigma_vals, hdi_prob=0.95)\n",
        "print(\"\\n95% credible interval for sigma:\", f\"{sigma_hdi[0]:.3f} {sigma_hdi[1]:.3f}\")\n",
        "\n",
        "# --- 6. Plot the trace ---\n",
        "az.plot_trace(trace, var_names=[\"mu\", \"sigma\", \"L\", \"U\", \"lower_\", \"upper_\"])\n",
        "plt.tight_layout()\n",
        "plt.show()\n"
      ],
      "metadata": {
        "id": "qH0p0JHxxn0B"
      },
      "execution_count": null,
      "outputs": []
    }
  ]
}